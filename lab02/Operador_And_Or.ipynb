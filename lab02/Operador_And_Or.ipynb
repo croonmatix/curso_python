{
 "cells": [
  {
   "cell_type": "code",
   "execution_count": 1,
   "metadata": {},
   "outputs": [],
   "source": [
    "##Operadores Booleanos##"
   ]
  },
  {
   "cell_type": "code",
   "execution_count": null,
   "metadata": {},
   "outputs": [],
   "source": [
    "genero = input ('cual es tu genero ? varon/mujer')\n",
    "edad = int(input('cual es tu edad?')) \n",
    "sueldo= int(input('cual es su sueldo?'))\n",
    "\n",
    "if genero == 'mujer' and edad > 50:\n",
    "    sueldo -= 100\n",
    "    print('Estas a punto de jubilarte y tu sueldo de jubilacion sera', sueldo)\n",
    "    \n",
    "elif genero =='varon' and edad > 55:\n",
    "    sueldo -= 300\n",
    "    print('Estas a punto de jubilarte y tu sueldo de jubilacion sera', sueldo)\n",
    "    \n",
    "else:\n",
    "    sueldo += 50\n",
    "    print('Estas en edad laboral pero tu sueldo sera', sueldo)\n",
    "    "
   ]
  },
  {
   "cell_type": "markdown",
   "metadata": {},
   "source": [
    "## OR"
   ]
  },
  {
   "cell_type": "code",
   "execution_count": 2,
   "metadata": {},
   "outputs": [
    {
     "name": "stdin",
     "output_type": "stream",
     "text": [
      "cual es tu genero ? varon/mujer varon\n",
      "tienes trabajo? (s/n) n\n"
     ]
    },
    {
     "name": "stdout",
     "output_type": "stream",
     "text": [
      "Tienes derecho al bono solidario\n"
     ]
    }
   ],
   "source": [
    "genero = input ('cual es tu genero ? varon/mujer')\n",
    "trabaja = input('tienes trabajo? (s/n)')\n",
    "\n",
    "\n",
    "if (genero == 'mujer' or genero == 'varon')and trabaja =='n':\n",
    "    \n",
    "    print('Tienes derecho al bono solidario')\n",
    "    \n",
    "elif genero =='mujer' and trabaja=='s':\n",
    "    \n",
    "    print('Sigue de largo')\n",
    "    \n",
    "else:\n",
    "    print('Se te dara otro tipo de ayuda')"
   ]
  }
 ],
 "metadata": {
  "kernelspec": {
   "display_name": "Python 3",
   "language": "python",
   "name": "python3"
  },
  "language_info": {
   "codemirror_mode": {
    "name": "ipython",
    "version": 3
   },
   "file_extension": ".py",
   "mimetype": "text/x-python",
   "name": "python",
   "nbconvert_exporter": "python",
   "pygments_lexer": "ipython3",
   "version": "3.7.7"
  }
 },
 "nbformat": 4,
 "nbformat_minor": 4
}
